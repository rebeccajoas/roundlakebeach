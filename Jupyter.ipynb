{
 "cells": [
  {
   "cell_type": "code",
   "execution_count": 1,
   "id": "cd084071",
   "metadata": {},
   "outputs": [],
   "source": [
    "# Setting up environment\n",
    "from datetime import datetime\n",
    "import pandas as pd\n",
    "from arcgis.gis import GIS\n",
    "from arcgis.apps import workforce\n",
    "import arcgis\n",
    "from IPython.display import display"
   ]
  },
  {
   "cell_type": "code",
   "execution_count": 2,
   "id": "4eda7026",
   "metadata": {
    "scrolled": true
   },
   "outputs": [],
   "source": [
    "# Connect to GIS\n",
    "gis = GIS(\"pro\", verify_cert=False)"
   ]
  },
  {
   "cell_type": "code",
   "execution_count": 3,
   "id": "92f582ba",
   "metadata": {},
   "outputs": [
    {
     "name": "stdout",
     "output_type": "stream",
     "text": [
      "GIS @ https://gis.gha-engineers.com/portal/ version:10.1\n"
     ]
    }
   ],
   "source": [
    "# Double Check\n",
    "print(gis)"
   ]
  },
  {
   "cell_type": "code",
   "execution_count": 4,
   "id": "7540f77a",
   "metadata": {
    "scrolled": true
   },
   "outputs": [
    {
     "data": {
      "text/html": [
       "<div class=\"item_container\" style=\"height: auto; overflow: hidden; border: 1px solid #cfcfcf; border-radius: 2px; background: #f6fafa; line-height: 1.21429em; padding: 10px;\">\n",
       "                    <div class=\"item_left\" style=\"width: 210px; float: left;\">\n",
       "                       <a href='https://gis.gha-engineers.com/portal//home/item.html?id=6fb406d580a548439adcfe731de68cb6' target='_blank'>\n",
       "                        <img src='data:image/png;base64,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' width='200' height='133' class=\"itemThumbnail\">\n",
       "                       </a>\n",
       "                    </div>\n",
       "\n",
       "                    <div class=\"item_right\"     style=\"float: none; width: auto; overflow: hidden;\">\n",
       "                        <a href='https://gis.gha-engineers.com/portal//home/item.html?id=6fb406d580a548439adcfe731de68cb6' target='_blank'><b>Round Lake Beach Work Order</b>\n",
       "                        </a>\n",
       "                        <br/><img src='https://gis.gha-engineers.com/portal//home/js/jsapi/esri/css/images/item_type_icons/featureshosted16.png' style=\"vertical-align:middle;\">Feature Layer Collection by rjoas@gha_engineers.com\n",
       "                        <br/>Last Modified: April 10, 2023\n",
       "                        <br/>0 comments, 25 views\n",
       "                    </div>\n",
       "                </div>\n",
       "                "
      ],
      "text/plain": [
       "<Item title:\"Round Lake Beach Work Order\" type:Feature Layer Collection owner:rjoas@gha_engineers.com>"
      ]
     },
     "metadata": {},
     "output_type": "display_data"
    }
   ],
   "source": [
    "# Access Survey123 Form\n",
    "item = gis.content.get(\"6fb406d580a548439adcfe731de68cb6\")\n",
    "display(item)"
   ]
  },
  {
   "cell_type": "code",
   "execution_count": 5,
   "id": "51c99922",
   "metadata": {},
   "outputs": [
    {
     "data": {
      "text/plain": [
       "<Project Round Lake Beach Work Order>"
      ]
     },
     "metadata": {},
     "output_type": "display_data"
    }
   ],
   "source": [
    "# Access Workforce Project\n",
    "project = arcgis.apps.workforce.Project(item)\n",
    "display(project)"
   ]
  },
  {
   "cell_type": "code",
   "execution_count": 6,
   "id": "efec3a1d",
   "metadata": {},
   "outputs": [
    {
     "name": "stdout",
     "output_type": "stream",
     "text": [
      "<Item title:\"Form 4\" type:Feature Layer Collection owner:rjoas@gha_engineers.com>\n"
     ]
    }
   ],
   "source": [
    "# Access Survey123 Feature Layer\n",
    "layer = gis.content.get(\"5376ecf1d37d47f5ab2e464c39b90fde\")\n",
    "print(layer)"
   ]
  },
  {
   "cell_type": "code",
   "execution_count": 7,
   "id": "0aa33cbf",
   "metadata": {},
   "outputs": [],
   "source": [
    "# Setting Environment\n",
    "from arcgis.geocoding import geocode"
   ]
  },
  {
   "cell_type": "code",
   "execution_count": 9,
   "id": "14a34523",
   "metadata": {},
   "outputs": [
    {
     "data": {
      "text/plain": [
       "[]"
      ]
     },
     "metadata": {},
     "output_type": "display_data"
    }
   ],
   "source": [
    "assignments = []\n",
    "display(assignments)"
   ]
  },
  {
   "cell_type": "code",
   "execution_count": 10,
   "id": "a4f30dec",
   "metadata": {
    "scrolled": false
   },
   "outputs": [
    {
     "data": {
      "text/html": [
       "<div>\n",
       "<style scoped>\n",
       "    .dataframe tbody tr th:only-of-type {\n",
       "        vertical-align: middle;\n",
       "    }\n",
       "\n",
       "    .dataframe tbody tr th {\n",
       "        vertical-align: top;\n",
       "    }\n",
       "\n",
       "    .dataframe thead th {\n",
       "        text-align: right;\n",
       "    }\n",
       "</style>\n",
       "<table border=\"1\" class=\"dataframe\">\n",
       "  <thead>\n",
       "    <tr style=\"text-align: right;\">\n",
       "      <th></th>\n",
       "      <th>comments</th>\n",
       "      <th>created_user</th>\n",
       "      <th>globalid</th>\n",
       "      <th>appointment</th>\n",
       "      <th>priority</th>\n",
       "      <th>dateofworkordersubmission</th>\n",
       "      <th>requestedby</th>\n",
       "      <th>last_edited_user</th>\n",
       "      <th>contactinfo</th>\n",
       "      <th>name</th>\n",
       "      <th>last_edited_date</th>\n",
       "      <th>location</th>\n",
       "      <th>created_date</th>\n",
       "      <th>customername</th>\n",
       "      <th>objectid</th>\n",
       "      <th>SHAPE</th>\n",
       "    </tr>\n",
       "  </thead>\n",
       "  <tbody>\n",
       "    <tr>\n",
       "      <th>0</th>\n",
       "      <td>Dead Rabbit</td>\n",
       "      <td>rjoas@gha_engineers.com</td>\n",
       "      <td>{DFB8B5B4-A52A-4BC3-8A41-2A412C5A1FA6}</td>\n",
       "      <td>2023-05-19 16:00:00</td>\n",
       "      <td>3</td>\n",
       "      <td>2023-05-18 17:00:00</td>\n",
       "      <td>Parks Department</td>\n",
       "      <td>rjoas@gha_engineers.com</td>\n",
       "      <td>karen@dodge.com</td>\n",
       "      <td>Deceased Animal Pick UP</td>\n",
       "      <td>2023-05-18 17:05:02.157999</td>\n",
       "      <td>704 E Clarendon Dr, Round Lake Beach, IL 60073</td>\n",
       "      <td>2023-05-18 17:05:02.157999</td>\n",
       "      <td>Karen</td>\n",
       "      <td>2</td>\n",
       "      <td>{\"x\": -88.06635259799998, \"y\": 42.378246569, \"...</td>\n",
       "    </tr>\n",
       "  </tbody>\n",
       "</table>\n",
       "</div>"
      ],
      "text/plain": [
       "      comments             created_user  \\\n",
       "0  Dead Rabbit  rjoas@gha_engineers.com   \n",
       "\n",
       "                                 globalid         appointment priority  \\\n",
       "0  {DFB8B5B4-A52A-4BC3-8A41-2A412C5A1FA6} 2023-05-19 16:00:00        3   \n",
       "\n",
       "  dateofworkordersubmission       requestedby         last_edited_user  \\\n",
       "0       2023-05-18 17:00:00  Parks Department  rjoas@gha_engineers.com   \n",
       "\n",
       "       contactinfo                     name           last_edited_date  \\\n",
       "0  karen@dodge.com  Deceased Animal Pick UP 2023-05-18 17:05:02.157999   \n",
       "\n",
       "                                         location               created_date  \\\n",
       "0  704 E Clarendon Dr, Round Lake Beach, IL 60073 2023-05-18 17:05:02.157999   \n",
       "\n",
       "  customername  objectid                                              SHAPE  \n",
       "0        Karen         2  {\"x\": -88.06635259799998, \"y\": 42.378246569, \"...  "
      ]
     },
     "execution_count": 10,
     "metadata": {},
     "output_type": "execute_result"
    }
   ],
   "source": [
    "# Identify Layer\n",
    "layer_item = layer.layers[0].query().sdf\n",
    "layer_item"
   ]
  },
  {
   "cell_type": "code",
   "execution_count": 11,
   "id": "01a7d8f8",
   "metadata": {},
   "outputs": [],
   "source": [
    "project_assignments = []"
   ]
  },
  {
   "cell_type": "code",
   "execution_count": 12,
   "id": "d733c002",
   "metadata": {
    "scrolled": false
   },
   "outputs": [],
   "source": [
    "# Project Assignment Settings\n",
    "for feature in layer.layers[0].query():\n",
    "    assignments.append(\n",
    "        workforce.Assignment(\n",
    "            project,    \n",
    "            geometry=feature.geometry,\n",
    "            location=feature.attributes[\"location\"],\n",
    "            description=feature.attributes[\"comments\"],\n",
    "            priority=2,\n",
    "            assignment_type=\"Work Order\",\n",
    "            status=\"unassigned\"\n",
    "        )\n",
    "    )"
   ]
  },
  {
   "cell_type": "code",
   "execution_count": 14,
   "id": "6be0d892",
   "metadata": {},
   "outputs": [
    {
     "ename": "KeyError",
     "evalue": "0",
     "output_type": "error",
     "traceback": [
      "\u001b[1;31m---------------------------------------------------------------------------\u001b[0m",
      "\u001b[1;31mKeyError\u001b[0m                                  Traceback (most recent call last)",
      "\u001b[1;32m<ipython-input-14-04ff4b79bdab>\u001b[0m in \u001b[0;36m<module>\u001b[1;34m\u001b[0m\n\u001b[0;32m      1\u001b[0m \u001b[1;31m# Create New Assignment\u001b[0m\u001b[1;33m\u001b[0m\u001b[1;33m\u001b[0m\u001b[0m\n\u001b[1;32m----> 2\u001b[1;33m \u001b[0mproject\u001b[0m\u001b[1;33m.\u001b[0m\u001b[0massignments\u001b[0m\u001b[1;33m.\u001b[0m\u001b[0mbatch_add\u001b[0m\u001b[1;33m(\u001b[0m\u001b[0massignments\u001b[0m\u001b[1;33m)\u001b[0m\u001b[1;33m\u001b[0m\u001b[1;33m\u001b[0m\u001b[0m\n\u001b[0m",
      "\u001b[1;32mC:\\Program Files\\ArcGIS\\Pro\\bin\\Python\\envs\\arcgispro-py3\\lib\\site-packages\\arcgis\\apps\\workforce\\managers.py\u001b[0m in \u001b[0;36mbatch_add\u001b[1;34m(self, assignments)\u001b[0m\n\u001b[0;32m     81\u001b[0m         \u001b[1;33m:\u001b[0m\u001b[1;32mreturn\u001b[0m\u001b[1;33m:\u001b[0m \u001b[1;33m:\u001b[0m\u001b[1;32mclass\u001b[0m\u001b[1;33m:\u001b[0m\u001b[0;31m`\u001b[0m\u001b[0mList\u001b[0m\u001b[0;31m`\u001b[0m \u001b[0mof\u001b[0m \u001b[1;33m:\u001b[0m\u001b[1;32mclass\u001b[0m\u001b[1;33m:\u001b[0m\u001b[0;31m`\u001b[0m\u001b[1;33m~\u001b[0m\u001b[0marcgis\u001b[0m\u001b[1;33m.\u001b[0m\u001b[0mapps\u001b[0m\u001b[1;33m.\u001b[0m\u001b[0mworkforce\u001b[0m\u001b[1;33m.\u001b[0m\u001b[0mAssignment\u001b[0m\u001b[0;31m`\u001b[0m\u001b[1;33m\u001b[0m\u001b[1;33m\u001b[0m\u001b[0m\n\u001b[0;32m     82\u001b[0m         \"\"\"\n\u001b[1;32m---> 83\u001b[1;33m         \u001b[1;32mreturn\u001b[0m \u001b[0madd_assignments\u001b[0m\u001b[1;33m(\u001b[0m\u001b[0mself\u001b[0m\u001b[1;33m.\u001b[0m\u001b[0mproject\u001b[0m\u001b[1;33m,\u001b[0m \u001b[0massignments\u001b[0m\u001b[1;33m)\u001b[0m\u001b[1;33m\u001b[0m\u001b[1;33m\u001b[0m\u001b[0m\n\u001b[0m\u001b[0;32m     84\u001b[0m \u001b[1;33m\u001b[0m\u001b[0m\n\u001b[0;32m     85\u001b[0m     def add(\n",
      "\u001b[1;32mC:\\Program Files\\ArcGIS\\Pro\\bin\\Python\\envs\\arcgispro-py3\\lib\\site-packages\\arcgis\\apps\\workforce\\_store\\assignments.py\u001b[0m in \u001b[0;36madd_assignments\u001b[1;34m(project, assignments)\u001b[0m\n\u001b[0;32m     72\u001b[0m \u001b[1;33m\u001b[0m\u001b[0m\n\u001b[0;32m     73\u001b[0m     \u001b[0mfeatures\u001b[0m \u001b[1;33m=\u001b[0m \u001b[1;33m[\u001b[0m\u001b[0massignment\u001b[0m\u001b[1;33m.\u001b[0m\u001b[0mfeature\u001b[0m \u001b[1;32mfor\u001b[0m \u001b[0massignment\u001b[0m \u001b[1;32min\u001b[0m \u001b[0massignments\u001b[0m\u001b[1;33m]\u001b[0m\u001b[1;33m\u001b[0m\u001b[1;33m\u001b[0m\u001b[0m\n\u001b[1;32m---> 74\u001b[1;33m     \u001b[0madd_features\u001b[0m\u001b[1;33m(\u001b[0m\u001b[0mproject\u001b[0m\u001b[1;33m.\u001b[0m\u001b[0massignments_layer\u001b[0m\u001b[1;33m,\u001b[0m \u001b[0mfeatures\u001b[0m\u001b[1;33m,\u001b[0m \u001b[0muse_global_ids\u001b[0m\u001b[1;33m)\u001b[0m\u001b[1;33m\u001b[0m\u001b[1;33m\u001b[0m\u001b[0m\n\u001b[0m\u001b[0;32m     75\u001b[0m     \u001b[1;32mreturn\u001b[0m \u001b[0massignments\u001b[0m\u001b[1;33m\u001b[0m\u001b[1;33m\u001b[0m\u001b[0m\n\u001b[0;32m     76\u001b[0m \u001b[1;33m\u001b[0m\u001b[0m\n",
      "\u001b[1;32mC:\\Program Files\\ArcGIS\\Pro\\bin\\Python\\envs\\arcgispro-py3\\lib\\site-packages\\arcgis\\apps\\workforce\\_store\\utils.py\u001b[0m in \u001b[0;36madd_features\u001b[1;34m(feature_layer, features, use_global_ids)\u001b[0m\n\u001b[0;32m     34\u001b[0m         )\n\u001b[0;32m     35\u001b[0m         \u001b[1;32mif\u001b[0m \u001b[0m_should_use_async_apply_edits\u001b[0m\u001b[1;33m(\u001b[0m\u001b[0mfeature_layer\u001b[0m\u001b[1;33m)\u001b[0m\u001b[1;33m:\u001b[0m\u001b[1;33m\u001b[0m\u001b[1;33m\u001b[0m\u001b[0m\n\u001b[1;32m---> 36\u001b[1;33m             \u001b[0madd_results\u001b[0m \u001b[1;33m=\u001b[0m \u001b[0mresponse\u001b[0m\u001b[1;33m.\u001b[0m\u001b[0mresult\u001b[0m\u001b[1;33m(\u001b[0m\u001b[1;33m)\u001b[0m\u001b[1;33m[\u001b[0m\u001b[1;36m0\u001b[0m\u001b[1;33m]\u001b[0m\u001b[1;33m[\u001b[0m\u001b[1;34m\"addResults\"\u001b[0m\u001b[1;33m]\u001b[0m\u001b[1;33m\u001b[0m\u001b[1;33m\u001b[0m\u001b[0m\n\u001b[0m\u001b[0;32m     37\u001b[0m         \u001b[1;32melse\u001b[0m\u001b[1;33m:\u001b[0m\u001b[1;33m\u001b[0m\u001b[1;33m\u001b[0m\u001b[0m\n\u001b[0;32m     38\u001b[0m             \u001b[0madd_results\u001b[0m \u001b[1;33m=\u001b[0m \u001b[0mresponse\u001b[0m\u001b[1;33m[\u001b[0m\u001b[1;34m\"addResults\"\u001b[0m\u001b[1;33m]\u001b[0m\u001b[1;33m\u001b[0m\u001b[1;33m\u001b[0m\u001b[0m\n",
      "\u001b[1;31mKeyError\u001b[0m: 0"
     ]
    }
   ],
   "source": [
    "# Create New Assignment\n",
    "project.assignments.batch_add(assignments)"
   ]
  },
  {
   "cell_type": "code",
   "execution_count": null,
   "id": "d84398b3",
   "metadata": {},
   "outputs": [],
   "source": []
  },
  {
   "cell_type": "code",
   "execution_count": null,
   "id": "c42fce5d",
   "metadata": {},
   "outputs": [],
   "source": []
  }
 ],
 "metadata": {
  "kernelspec": {
   "display_name": "Python 3",
   "language": "python",
   "name": "python3"
  },
  "language_info": {
   "codemirror_mode": {
    "name": "ipython",
    "version": 3
   },
   "file_extension": ".py",
   "mimetype": "text/x-python",
   "name": "python",
   "nbconvert_exporter": "python",
   "pygments_lexer": "ipython3",
   "version": "3.9.11"
  }
 },
 "nbformat": 4,
 "nbformat_minor": 5
}
